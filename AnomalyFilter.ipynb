{
 "cells": [
  {
   "cell_type": "code",
   "execution_count": 1,
   "metadata": {},
   "outputs": [],
   "source": [
    "import pandas as pd\n",
    "import os\n",
    "from datetime import datetime"
   ]
  },
  {
   "cell_type": "code",
   "execution_count": 3,
   "metadata": {},
   "outputs": [
    {
     "data": {
      "text/plain": [
       "['1', '2']"
      ]
     },
     "execution_count": 3,
     "metadata": {},
     "output_type": "execute_result"
    }
   ],
   "source": [
    "list({\n",
    "    '1': 2,\n",
    "    '2': 3\n",
    "}.keys())"
   ]
  },
  {
   "cell_type": "code",
   "execution_count": 2,
   "metadata": {},
   "outputs": [],
   "source": [
    "diretorio = './datasets/anomalias'"
   ]
  },
  {
   "cell_type": "markdown",
   "metadata": {},
   "source": [
    "# Filter Files"
   ]
  },
  {
   "cell_type": "code",
   "execution_count": 4,
   "metadata": {},
   "outputs": [],
   "source": [
    "def filter_by_day(dataframe, day):\n",
    "    return dataframe[dataframe[\"Timestamp\"].str.contains(day)].index.values.tolist()"
   ]
  },
  {
   "cell_type": "code",
   "execution_count": 5,
   "metadata": {},
   "outputs": [],
   "source": [
    "def filter_by_date(dataframe, start, end):\n",
    "    dateSeries = dataframe[\"Timestamp\"].apply(lambda x: datetime.strptime(' '.join(x.split(\" \")[1:]), '%I:%M:%S %p'))\n",
    "    return dateSeries[(dateSeries < end) & (dateSeries > start)].index.values.tolist()"
   ]
  },
  {
   "cell_type": "code",
   "execution_count": 6,
   "metadata": {},
   "outputs": [],
   "source": [
    "def filter_by_ips(dataframe, attackers, victims):\n",
    "    return dataframe[\n",
    "        (dataframe[\"Dst IP\"].isin(victims) & dataframe[\"Src IP\"].isin(attackers))  | \n",
    "        (dataframe[\"Src IP\"].isin(victims) & dataframe[\"Dst IP\"].isin(attackers))].index.values.tolist()"
   ]
  },
  {
   "cell_type": "code",
   "execution_count": 6,
   "metadata": {},
   "outputs": [],
   "source": [
    "def filter_traffic_flows(dataframe, attackers=None, victims=None, day=None, timeStartEnd=None):\n",
    "    aux_df = dataframe.copy()\n",
    "    if attackers is not None and victims is not None:\n",
    "        indexes = filter_by_ips(aux_df, attackers, victims)\n",
    "        aux_df = aux_df[aux_df.index.isin(indexes)]\n",
    "    if day is not None:\n",
    "        indexes = filter_by_day(aux_df, day)\n",
    "        aux_df = aux_df[aux_df.index.isin(indexes)]\n",
    "    if timeStartEnd is not None:\n",
    "        indexes = []\n",
    "        for start, end in timeStartEnd:\n",
    "            indexes += filter_by_date(aux_df, start, end)\n",
    "        aux_df = aux_df[aux_df.index.isin(indexes)]\n",
    "    return aux_df.index.values.tolist()"
   ]
  },
  {
   "cell_type": "markdown",
   "metadata": {},
   "source": [
    "## Normal"
   ]
  },
  {
   "cell_type": "code",
   "execution_count": 15,
   "metadata": {},
   "outputs": [
    {
     "name": "stderr",
     "output_type": "stream",
     "text": [
      "/home/adriano/.local/lib/python3.7/site-packages/IPython/core/interactiveshell.py:3049: DtypeWarning: Columns (20,21) have mixed types. Specify dtype option on import or set low_memory=False.\n",
      "  interactivity=interactivity, compiler=compiler, result=result)\n"
     ]
    }
   ],
   "source": [
    "nrm_ano_2 = pd.read_csv(diretorio + \"/normal/normal_malware_2_no_filter.csv\")"
   ]
  },
  {
   "cell_type": "code",
   "execution_count": 4,
   "metadata": {},
   "outputs": [],
   "source": [
    "aux = nrm_ano_2[nrm_ano_2.iloc[:, -1] != \"BENIGN\"]\n",
    "aux.to_csv(diretorio + \"/normal/normal_malware_2_filtered.csv\", index=False)"
   ]
  },
  {
   "cell_type": "code",
   "execution_count": null,
   "metadata": {},
   "outputs": [],
   "source": [
    "#nrm_ano = pd.read_csv(diretorio + \"/normal/normal_malware_no_filter.csv\")"
   ]
  },
  {
   "cell_type": "code",
   "execution_count": null,
   "metadata": {},
   "outputs": [],
   "source": [
    "# Friday Filter\n",
    "#attackers = [\"205.174.165.73\"]\n",
    "#victims   = [\"192.168.10.15\", \"192.168.10.9\", \"192.168.10.14\", \"192.168.10.5\", \"192.168.10.8\"]\n",
    "#day       = \"07/07/2017\"\n",
    "#time_start_end = [(datetime.strptime('10:02 AM', '%I:%M %p'), datetime.strptime('11:02 AM', '%I:%M %p'))]\n",
    "\n",
    "#fri_idxs = filter_traffic_flows(nrm_ano, attackers=attackers, victims=victims, day=day, timeStartEnd=time_start_end)\n",
    "#len(fri_idxs)"
   ]
  },
  {
   "cell_type": "code",
   "execution_count": null,
   "metadata": {},
   "outputs": [],
   "source": [
    "# Tuesday Filter\n",
    "#attackers = [\"205.174.165.73\"]\n",
    "#victims   = [\"192.168.10.8\", \"192.168.10.25\"]\n",
    "#day       = \"06/07/2017\"\n",
    "#time_start_end = [\n",
    "#    (datetime.strptime('14:20 PM', '%H:%M %p'), datetime.strptime('14:21 PM', '%H:%M %p')),\n",
    "#    (datetime.strptime('14:33 PM', '%H:%M %p'), datetime.strptime('14:35 PM', '%H:%M %p')),\n",
    "#    (datetime.strptime('14:53 PM', '%H:%M %p'), datetime.strptime('15:00 PM', '%H:%M %p')),\n",
    "#    (datetime.strptime('15:04 PM', '%H:%M %p'), datetime.strptime('15:45 PM', '%H:%M %p'))]\n",
    "\n",
    "#tue_idxs = filter_traffic_flows(nrm_ano, attackers=attackers, victims=victims, day=day, timeStartEnd=time_start_end)\n",
    "#len(tue_idxs)"
   ]
  },
  {
   "cell_type": "markdown",
   "metadata": {},
   "source": [
    "## Mobile"
   ]
  },
  {
   "cell_type": "code",
   "execution_count": 8,
   "metadata": {},
   "outputs": [],
   "source": [
    "mob_ano = pd.read_csv(diretorio + \"/mobile/mobile_malware_2_no_filter.csv\")"
   ]
  },
  {
   "cell_type": "code",
   "execution_count": 10,
   "metadata": {},
   "outputs": [],
   "source": [
    "aux = mob_ano[mob_ano.iloc[:, -1] != \"BENIGN\"]\n",
    "aux.to_csv(diretorio + \"/mobile/mobile_malware_2_filtered.csv\", index=False)"
   ]
  },
  {
   "cell_type": "markdown",
   "metadata": {},
   "source": [
    "## Iot"
   ]
  },
  {
   "cell_type": "code",
   "execution_count": 16,
   "metadata": {},
   "outputs": [],
   "source": [
    "iot_ano = pd.read_csv(diretorio + \"/iot/iot_malware_no_filter.csv\",  index_col=0)"
   ]
  },
  {
   "cell_type": "code",
   "execution_count": 19,
   "metadata": {},
   "outputs": [
    {
     "data": {
      "text/html": [
       "<div>\n",
       "<style scoped>\n",
       "    .dataframe tbody tr th:only-of-type {\n",
       "        vertical-align: middle;\n",
       "    }\n",
       "\n",
       "    .dataframe tbody tr th {\n",
       "        vertical-align: top;\n",
       "    }\n",
       "\n",
       "    .dataframe thead th {\n",
       "        text-align: right;\n",
       "    }\n",
       "</style>\n",
       "<table border=\"1\" class=\"dataframe\">\n",
       "  <thead>\n",
       "    <tr style=\"text-align: right;\">\n",
       "      <th></th>\n",
       "      <th>Flow ID</th>\n",
       "      <th>Src IP</th>\n",
       "      <th>Src Port</th>\n",
       "      <th>Dst IP</th>\n",
       "      <th>Dst Port</th>\n",
       "      <th>Protocol</th>\n",
       "      <th>Timestamp</th>\n",
       "      <th>Flow Duration</th>\n",
       "      <th>Tot Fwd Pkts</th>\n",
       "      <th>Tot Bwd Pkts</th>\n",
       "      <th>...</th>\n",
       "      <th>Fwd Seg Size Min</th>\n",
       "      <th>Active Mean</th>\n",
       "      <th>Active Std</th>\n",
       "      <th>Active Max</th>\n",
       "      <th>Active Min</th>\n",
       "      <th>Idle Mean</th>\n",
       "      <th>Idle Std</th>\n",
       "      <th>Idle Max</th>\n",
       "      <th>Idle Min</th>\n",
       "      <th>Label</th>\n",
       "    </tr>\n",
       "    <tr>\n",
       "      <th>Unnamed: 0</th>\n",
       "      <th></th>\n",
       "      <th></th>\n",
       "      <th></th>\n",
       "      <th></th>\n",
       "      <th></th>\n",
       "      <th></th>\n",
       "      <th></th>\n",
       "      <th></th>\n",
       "      <th></th>\n",
       "      <th></th>\n",
       "      <th></th>\n",
       "      <th></th>\n",
       "      <th></th>\n",
       "      <th></th>\n",
       "      <th></th>\n",
       "      <th></th>\n",
       "      <th></th>\n",
       "      <th></th>\n",
       "      <th></th>\n",
       "      <th></th>\n",
       "      <th></th>\n",
       "    </tr>\n",
       "  </thead>\n",
       "  <tbody>\n",
       "    <tr>\n",
       "      <th>2044</th>\n",
       "      <td>192.168.100.113-66.85.157.90-41174-443-6</td>\n",
       "      <td>192.168.100.113</td>\n",
       "      <td>41174</td>\n",
       "      <td>66.85.157.90</td>\n",
       "      <td>443</td>\n",
       "      <td>6</td>\n",
       "      <td>2018-10-03 10:25:33</td>\n",
       "      <td>15358493</td>\n",
       "      <td>5</td>\n",
       "      <td>0</td>\n",
       "      <td>...</td>\n",
       "      <td>40</td>\n",
       "      <td>7198654.0</td>\n",
       "      <td>0.000000</td>\n",
       "      <td>7198654.0</td>\n",
       "      <td>7198654.0</td>\n",
       "      <td>8.159839e+06</td>\n",
       "      <td>0.000000</td>\n",
       "      <td>8159839.0</td>\n",
       "      <td>8159839.0</td>\n",
       "      <td>No Label</td>\n",
       "    </tr>\n",
       "    <tr>\n",
       "      <th>2044</th>\n",
       "      <td>192.168.100.113-66.85.157.90-41174-443-6</td>\n",
       "      <td>192.168.100.113</td>\n",
       "      <td>41174</td>\n",
       "      <td>66.85.157.90</td>\n",
       "      <td>443</td>\n",
       "      <td>6</td>\n",
       "      <td>2018-10-03 10:25:33</td>\n",
       "      <td>15358493</td>\n",
       "      <td>5</td>\n",
       "      <td>0</td>\n",
       "      <td>...</td>\n",
       "      <td>40</td>\n",
       "      <td>7198654.0</td>\n",
       "      <td>0.000000</td>\n",
       "      <td>7198654.0</td>\n",
       "      <td>7198654.0</td>\n",
       "      <td>8.159839e+06</td>\n",
       "      <td>0.000000</td>\n",
       "      <td>8159839.0</td>\n",
       "      <td>8159839.0</td>\n",
       "      <td>No Label</td>\n",
       "    </tr>\n",
       "    <tr>\n",
       "      <th>2044</th>\n",
       "      <td>192.168.100.113-66.85.157.90-41174-443-6</td>\n",
       "      <td>192.168.100.113</td>\n",
       "      <td>41174</td>\n",
       "      <td>66.85.157.90</td>\n",
       "      <td>443</td>\n",
       "      <td>6</td>\n",
       "      <td>2018-10-03 10:25:33</td>\n",
       "      <td>15358493</td>\n",
       "      <td>5</td>\n",
       "      <td>0</td>\n",
       "      <td>...</td>\n",
       "      <td>40</td>\n",
       "      <td>7198654.0</td>\n",
       "      <td>0.000000</td>\n",
       "      <td>7198654.0</td>\n",
       "      <td>7198654.0</td>\n",
       "      <td>8.159839e+06</td>\n",
       "      <td>0.000000</td>\n",
       "      <td>8159839.0</td>\n",
       "      <td>8159839.0</td>\n",
       "      <td>No Label</td>\n",
       "    </tr>\n",
       "    <tr>\n",
       "      <th>2</th>\n",
       "      <td>192.168.100.113-66.85.157.90-41176-443-6</td>\n",
       "      <td>192.168.100.113</td>\n",
       "      <td>41176</td>\n",
       "      <td>66.85.157.90</td>\n",
       "      <td>443</td>\n",
       "      <td>6</td>\n",
       "      <td>2018-10-03 10:26:56</td>\n",
       "      <td>117211164</td>\n",
       "      <td>32</td>\n",
       "      <td>32</td>\n",
       "      <td>...</td>\n",
       "      <td>20</td>\n",
       "      <td>132921.0</td>\n",
       "      <td>448008.557707</td>\n",
       "      <td>1874680.0</td>\n",
       "      <td>5.0</td>\n",
       "      <td>5.194848e+06</td>\n",
       "      <td>53390.045986</td>\n",
       "      <td>5310230.0</td>\n",
       "      <td>5079606.0</td>\n",
       "      <td>No Label</td>\n",
       "    </tr>\n",
       "    <tr>\n",
       "      <th>3330</th>\n",
       "      <td>192.168.100.113-66.85.157.90-41178-443-6</td>\n",
       "      <td>192.168.100.113</td>\n",
       "      <td>41178</td>\n",
       "      <td>66.85.157.90</td>\n",
       "      <td>443</td>\n",
       "      <td>6</td>\n",
       "      <td>2018-10-03 19:52:07</td>\n",
       "      <td>1191069</td>\n",
       "      <td>2</td>\n",
       "      <td>1</td>\n",
       "      <td>...</td>\n",
       "      <td>40</td>\n",
       "      <td>0.0</td>\n",
       "      <td>0.000000</td>\n",
       "      <td>0.0</td>\n",
       "      <td>0.0</td>\n",
       "      <td>0.000000e+00</td>\n",
       "      <td>0.000000</td>\n",
       "      <td>0.0</td>\n",
       "      <td>0.0</td>\n",
       "      <td>No Label</td>\n",
       "    </tr>\n",
       "  </tbody>\n",
       "</table>\n",
       "<p>5 rows × 84 columns</p>\n",
       "</div>"
      ],
      "text/plain": [
       "                                             Flow ID           Src IP  \\\n",
       "Unnamed: 0                                                              \n",
       "2044        192.168.100.113-66.85.157.90-41174-443-6  192.168.100.113   \n",
       "2044        192.168.100.113-66.85.157.90-41174-443-6  192.168.100.113   \n",
       "2044        192.168.100.113-66.85.157.90-41174-443-6  192.168.100.113   \n",
       "2           192.168.100.113-66.85.157.90-41176-443-6  192.168.100.113   \n",
       "3330        192.168.100.113-66.85.157.90-41178-443-6  192.168.100.113   \n",
       "\n",
       "            Src Port        Dst IP  Dst Port  Protocol            Timestamp  \\\n",
       "Unnamed: 0                                                                    \n",
       "2044           41174  66.85.157.90       443         6  2018-10-03 10:25:33   \n",
       "2044           41174  66.85.157.90       443         6  2018-10-03 10:25:33   \n",
       "2044           41174  66.85.157.90       443         6  2018-10-03 10:25:33   \n",
       "2              41176  66.85.157.90       443         6  2018-10-03 10:26:56   \n",
       "3330           41178  66.85.157.90       443         6  2018-10-03 19:52:07   \n",
       "\n",
       "            Flow Duration  Tot Fwd Pkts  Tot Bwd Pkts  ...  Fwd Seg Size Min  \\\n",
       "Unnamed: 0                                             ...                     \n",
       "2044             15358493             5             0  ...                40   \n",
       "2044             15358493             5             0  ...                40   \n",
       "2044             15358493             5             0  ...                40   \n",
       "2               117211164            32            32  ...                20   \n",
       "3330              1191069             2             1  ...                40   \n",
       "\n",
       "            Active Mean     Active Std  Active Max  Active Min     Idle Mean  \\\n",
       "Unnamed: 0                                                                     \n",
       "2044          7198654.0       0.000000   7198654.0   7198654.0  8.159839e+06   \n",
       "2044          7198654.0       0.000000   7198654.0   7198654.0  8.159839e+06   \n",
       "2044          7198654.0       0.000000   7198654.0   7198654.0  8.159839e+06   \n",
       "2              132921.0  448008.557707   1874680.0         5.0  5.194848e+06   \n",
       "3330                0.0       0.000000         0.0         0.0  0.000000e+00   \n",
       "\n",
       "                Idle Std   Idle Max   Idle Min     Label  \n",
       "Unnamed: 0                                                \n",
       "2044            0.000000  8159839.0  8159839.0  No Label  \n",
       "2044            0.000000  8159839.0  8159839.0  No Label  \n",
       "2044            0.000000  8159839.0  8159839.0  No Label  \n",
       "2           53390.045986  5310230.0  5079606.0  No Label  \n",
       "3330            0.000000        0.0        0.0  No Label  \n",
       "\n",
       "[5 rows x 84 columns]"
      ]
     },
     "execution_count": 19,
     "metadata": {},
     "output_type": "execute_result"
    }
   ],
   "source": [
    "iot_ano.iloc[:, :83].head(5)"
   ]
  },
  {
   "cell_type": "markdown",
   "metadata": {},
   "source": [
    "# Merge Files"
   ]
  },
  {
   "cell_type": "code",
   "execution_count": 3,
   "metadata": {},
   "outputs": [],
   "source": [
    "def merge_csvs(list_files):\n",
    "    df = pd.read_csv(list_files[0])\n",
    "    for file in list_files[1:]:\n",
    "        aux_df = pd.read_csv(file)\n",
    "        df = pd.concat([df, aux_df])\n",
    "    return df"
   ]
  },
  {
   "cell_type": "code",
   "execution_count": 4,
   "metadata": {},
   "outputs": [],
   "source": [
    "def get_files(diretorio):\n",
    "    csvs = []\n",
    "    dirs = [diretorio]\n",
    "    while len(dirs) > 0:\n",
    "        current = dirs.pop()\n",
    "        aux = os.listdir(current)\n",
    "        csvs += [current + \"/\" + e for e in aux if \".csv\" in e]\n",
    "        dirs += [current + \"/\" + e for e in aux if \".csv\" not in e]\n",
    "    return csvs"
   ]
  },
  {
   "cell_type": "markdown",
   "metadata": {},
   "source": [
    "## Iot"
   ]
  },
  {
   "cell_type": "code",
   "execution_count": 5,
   "metadata": {},
   "outputs": [],
   "source": [
    "new_dir = diretorio + \"/iot\"\n",
    "original = new_dir + \"/original\"\n",
    "\n",
    "files = get_files(original)\n",
    "df = merge_csvs(files)\n",
    "df.to_csv(new_dir + \"/iot_malware_no_filter.csv\", index=False)"
   ]
  },
  {
   "cell_type": "markdown",
   "metadata": {},
   "source": [
    "## Normal"
   ]
  },
  {
   "cell_type": "code",
   "execution_count": 162,
   "metadata": {},
   "outputs": [
    {
     "name": "stderr",
     "output_type": "stream",
     "text": [
      "/home/adriano/.local/lib/python3.7/site-packages/IPython/core/interactiveshell.py:3214: DtypeWarning: Columns (20,21) have mixed types. Specify dtype option on import or set low_memory=False.\n",
      "  if (yield from self.run_code(code, result)):\n",
      "/home/adriano/.local/lib/python3.7/site-packages/IPython/core/interactiveshell.py:3214: DtypeWarning: Columns (20) have mixed types. Specify dtype option on import or set low_memory=False.\n",
      "  if (yield from self.run_code(code, result)):\n"
     ]
    }
   ],
   "source": [
    "new_dir = diretorio + \"/normal\"\n",
    "original = new_dir + \"/original\"\n",
    "\n",
    "files = get_files(original)\n",
    "df = merge_csvs(files)\n",
    "df.to_csv(new_dir + \"/normal_malware_no_filter.csv\", index=False)"
   ]
  },
  {
   "cell_type": "code",
   "execution_count": 6,
   "metadata": {},
   "outputs": [
    {
     "name": "stderr",
     "output_type": "stream",
     "text": [
      "/home/adriano/.local/lib/python3.7/site-packages/IPython/core/interactiveshell.py:3214: DtypeWarning: Columns (20) have mixed types. Specify dtype option on import or set low_memory=False.\n",
      "  if (yield from self.run_code(code, result)):\n",
      "/home/adriano/.local/lib/python3.7/site-packages/IPython/core/interactiveshell.py:3214: DtypeWarning: Columns (20,21) have mixed types. Specify dtype option on import or set low_memory=False.\n",
      "  if (yield from self.run_code(code, result)):\n"
     ]
    }
   ],
   "source": [
    "new_dir = diretorio + \"/normal\"\n",
    "original = new_dir + \"/down-csvs\"\n",
    "\n",
    "files = get_files(original)\n",
    "df = merge_csvs(files)\n",
    "df.to_csv(new_dir + \"/normal_malware_2_no_filter.csv\", index=False)"
   ]
  },
  {
   "cell_type": "markdown",
   "metadata": {},
   "source": [
    "## Mobile"
   ]
  },
  {
   "cell_type": "code",
   "execution_count": 7,
   "metadata": {},
   "outputs": [
    {
     "name": "stdout",
     "output_type": "stream",
     "text": [
      "['./datasets/anomalias/mobile/original/scareware/06_29_2017-sc-fakejoboffer-fsecure-9e8fa23dfc817bdcad42b2f6ada6e658.pcap_Flow.csv', './datasets/anomalias/mobile/original/scareware/06_26_2017-sc-AndroidDefender-Fortinet-0dc29a73d74be55df4c84e26ee31b716.pcap_Flow.csv', './datasets/anomalias/mobile/original/scareware/06_28_2017-sc-FakeApp.AL-MixAVs-1e071e3042dceca4a0fa92f3e89c998c.pcap_Flow.csv', './datasets/anomalias/mobile/original/scareware/06_26_2017-sc-AndroidDefender-Fortinet-0c029418165cc8a7fbb25de0f37b720d.pcap_Flow.csv', './datasets/anomalias/mobile/original/scareware/07_04_2017-sc-penetho-kaspersky-ed323f9a664c535afc7fb75aabecb9c6.pcap_Flow.csv']\n"
     ]
    }
   ],
   "source": [
    "new_dir = diretorio + \"/mobile\"\n",
    "original = new_dir + \"/original\"\n",
    "\n",
    "files = get_files(original)\n",
    "df = merge_csvs(files)\n",
    "df.to_csv(new_dir + \"/mobile_malware_no_filter.csv\", index=False)"
   ]
  },
  {
   "cell_type": "code",
   "execution_count": 7,
   "metadata": {},
   "outputs": [
    {
     "name": "stdout",
     "output_type": "stream",
     "text": [
      "['./datasets/anomalias/mobile/down-csvs/Ransomware/Jisut/08_22_2017-ra-jisut-eset-12fb8804389e7496ff5a56e2134ccf5e.pcap_ISCX.csv', './datasets/anomalias/mobile/down-csvs/Ransomware/Jisut/08_22_2017-ra-jisut-eset-008aafc94cfdc5e41d8f5fa41abe23ac.pcap_ISCX.csv', './datasets/anomalias/mobile/down-csvs/Ransomware/Jisut/08_21_2017-ra-jisut-eset-0647e7667203a2a9e1858a6e9f49e98b.pcap_ISCX.csv', './datasets/anomalias/mobile/down-csvs/Ransomware/Jisut/08_22_2017-ra-jisut-eset-1046b8a9498edb5ee6f175d752ec9c32.pcap_ISCX.csv', './datasets/anomalias/mobile/down-csvs/Ransomware/Jisut/08_21_2017-ra-jisut-eset-01147ee72ad07cb9c1416b9963e56f99.pcap_ISCX.csv']\n"
     ]
    }
   ],
   "source": [
    "new_dir = diretorio + \"/mobile\"\n",
    "original = new_dir + \"/down-csvs\"\n",
    "\n",
    "files = get_files(original)\n",
    "df = merge_csvs(files)\n",
    "df.to_csv(new_dir + \"/mobile_malware_2_no_filter.csv\", index=False)"
   ]
  },
  {
   "cell_type": "markdown",
   "metadata": {},
   "source": [
    "## All in one"
   ]
  },
  {
   "cell_type": "code",
   "execution_count": 3,
   "metadata": {},
   "outputs": [
    {
     "name": "stderr",
     "output_type": "stream",
     "text": [
      "/home/adriano/.local/lib/python3.7/site-packages/IPython/core/interactiveshell.py:3049: DtypeWarning: Columns (25,47,55,57,62) have mixed types. Specify dtype option on import or set low_memory=False.\n",
      "  interactivity=interactivity, compiler=compiler, result=result)\n",
      "/home/adriano/.local/lib/python3.7/site-packages/IPython/core/interactiveshell.py:3049: DtypeWarning: Columns (20,21) have mixed types. Specify dtype option on import or set low_memory=False.\n",
      "  interactivity=interactivity, compiler=compiler, result=result)\n"
     ]
    }
   ],
   "source": [
    "new_file = diretorio + \"dataset.csv\"\n",
    "\n",
    "mob = pd.read_csv(diretorio + \"/mobile\" + \"/mobile_malware_2_filtered.csv\")\n",
    "tor = pd.read_csv(diretorio + \"/normal\" + \"/normal_malware_2_filtered.csv\")\n",
    "iot = pd.read_csv(diretorio + \"/iot\"    + \"/iot_malware_no_filter.csv\", index_col=0)\n",
    "\n",
    "mob = mob.iloc[:, :83]\n",
    "mob[\"Device Class\"] = \"Mobile Anomaly\"\n",
    "tor = tor.iloc[:, :83]\n",
    "tor[\"Device Class\"] = \"Non Tor Anomaly\"\n",
    "iot = iot.iloc[:, :83]\n",
    "iot[\"Device Class\"] = \"Iot Anomaly\""
   ]
  },
  {
   "cell_type": "code",
   "execution_count": null,
   "metadata": {},
   "outputs": [],
   "source": [
    "result_df = pd.DataFrame(columns=mob.columns)\n",
    "\n",
    "result_df = pd.concat([result_df, pd.DataFrame(mob.values)])\n",
    "result_df = pd.concat([result_df, pd.DataFrame(tor.values)])\n",
    "result_df = pd.concat([result_df, pd.DataFrame(iot.values)])\n",
    "\n",
    "result_df.to_csv(new_file, index=False)"
   ]
  },
  {
   "cell_type": "code",
   "execution_count": null,
   "metadata": {},
   "outputs": [],
   "source": [
    "import functools \n",
    "\n",
    "aux1 = mob.columns.values.tolist()\n",
    "aux2 = tor.columns.values.tolist()\n",
    "aux3 = iot.columns.values.tolist()\n",
    "\n",
    "print(functools.reduce(lambda i, j : i and j, map(lambda m, k: m.strip() == k.strip(), aux1, aux2), True))\n",
    "print(functools.reduce(lambda i, j : i and j, map(lambda m, k: m.strip() == k.strip(), aux1, aux3), True))\n",
    "print(functools.reduce(lambda i, j : i and j, map(lambda m, k: m.strip() == k.strip(), aux3, aux2), True))"
   ]
  },
  {
   "cell_type": "code",
   "execution_count": 36,
   "metadata": {},
   "outputs": [
    {
     "name": "stdout",
     "output_type": "stream",
     "text": [
      "Flow ID xxx Flow ID\n",
      "Source IP xxx Src IP\n",
      "Source Port xxx Src Port\n",
      "Destination IP xxx Dst IP\n",
      "Destination Port xxx Dst Port\n",
      "Protocol xxx Protocol\n",
      "Timestamp xxx Timestamp\n",
      "Flow Duration xxx Flow Duration\n",
      "Total Fwd Packets xxx Tot Fwd Pkts\n",
      "Total Backward Packets xxx Tot Bwd Pkts\n",
      "Total Length of Fwd Packets xxx TotLen Fwd Pkts\n",
      "Total Length of Bwd Packets xxx TotLen Bwd Pkts\n",
      "Fwd Packet Length Max xxx Fwd Pkt Len Max\n",
      "Fwd Packet Length Min xxx Fwd Pkt Len Min\n",
      "Fwd Packet Length Mean xxx Fwd Pkt Len Mean\n",
      "Fwd Packet Length Std xxx Fwd Pkt Len Std\n",
      "Bwd Packet Length Max xxx Bwd Pkt Len Max\n",
      "Bwd Packet Length Min xxx Bwd Pkt Len Min\n",
      "Bwd Packet Length Mean xxx Bwd Pkt Len Mean\n",
      "Bwd Packet Length Std xxx Bwd Pkt Len Std\n",
      "Flow Bytes/s xxx Flow Byts/s\n",
      "Flow Packets/s xxx Flow Pkts/s\n",
      "Flow IAT Mean xxx Flow IAT Mean\n",
      "Flow IAT Std xxx Flow IAT Std\n",
      "Flow IAT Max xxx Flow IAT Max\n",
      "Flow IAT Min xxx Flow IAT Min\n",
      "Fwd IAT Total xxx Fwd IAT Tot\n",
      "Fwd IAT Mean xxx Fwd IAT Mean\n",
      "Fwd IAT Std xxx Fwd IAT Std\n",
      "Fwd IAT Max xxx Fwd IAT Max\n",
      "Fwd IAT Min xxx Fwd IAT Min\n",
      "Bwd IAT Total xxx Bwd IAT Tot\n",
      "Bwd IAT Mean xxx Bwd IAT Mean\n",
      "Bwd IAT Std xxx Bwd IAT Std\n",
      "Bwd IAT Max xxx Bwd IAT Max\n",
      "Bwd IAT Min xxx Bwd IAT Min\n",
      "Fwd PSH Flags xxx Fwd PSH Flags\n",
      "Bwd PSH Flags xxx Bwd PSH Flags\n",
      "Fwd URG Flags xxx Fwd URG Flags\n",
      "Bwd URG Flags xxx Bwd URG Flags\n",
      "Fwd Header Length xxx Fwd Header Len\n",
      "Bwd Header Length xxx Bwd Header Len\n",
      "Fwd Packets/s xxx Fwd Pkts/s\n",
      "Bwd Packets/s xxx Bwd Pkts/s\n",
      "Min Packet Length xxx Pkt Len Min\n",
      "Max Packet Length xxx Pkt Len Max\n",
      "Packet Length Mean xxx Pkt Len Mean\n",
      "Packet Length Std xxx Pkt Len Std\n",
      "Packet Length Variance xxx Pkt Len Var\n",
      "FIN Flag Count xxx FIN Flag Cnt\n",
      "SYN Flag Count xxx SYN Flag Cnt\n",
      "RST Flag Count xxx RST Flag Cnt\n",
      "PSH Flag Count xxx PSH Flag Cnt\n",
      "ACK Flag Count xxx ACK Flag Cnt\n",
      "URG Flag Count xxx URG Flag Cnt\n",
      "CWE Flag Count xxx CWE Flag Count\n",
      "ECE Flag Count xxx ECE Flag Cnt\n",
      "Down/Up Ratio xxx Down/Up Ratio\n",
      "Average Packet Size xxx Pkt Size Avg\n",
      "Avg Fwd Segment Size xxx Fwd Seg Size Avg\n",
      "Avg Bwd Segment Size xxx Bwd Seg Size Avg\n",
      "Fwd Header Length.1 xxx Fwd Byts/b Avg\n",
      "Fwd Avg Bytes/Bulk xxx Fwd Pkts/b Avg\n",
      "Fwd Avg Packets/Bulk xxx Fwd Blk Rate Avg\n",
      "Fwd Avg Bulk Rate xxx Bwd Byts/b Avg\n",
      "Bwd Avg Bytes/Bulk xxx Bwd Pkts/b Avg\n",
      "Bwd Avg Packets/Bulk xxx Bwd Blk Rate Avg\n",
      "Bwd Avg Bulk Rate xxx Subflow Fwd Pkts\n",
      "Subflow Fwd Packets xxx Subflow Fwd Byts\n",
      "Subflow Fwd Bytes xxx Subflow Bwd Pkts\n",
      "Subflow Bwd Packets xxx Subflow Bwd Byts\n",
      "Subflow Bwd Bytes xxx Init Fwd Win Byts\n",
      "Init_Win_bytes_forward xxx Init Bwd Win Byts\n",
      "Init_Win_bytes_backward xxx Fwd Act Data Pkts\n",
      "act_data_pkt_fwd xxx Fwd Seg Size Min\n",
      "min_seg_size_forward xxx Active Mean\n",
      "Active Mean xxx Active Std\n",
      "Active Std xxx Active Max\n",
      "Active Max xxx Active Min\n",
      "Active Min xxx Idle Mean\n",
      "Idle Mean xxx Idle Std\n",
      "Idle Std xxx Idle Max\n",
      "Idle Max xxx Idle Min\n",
      "Device Class xxx Device Class\n"
     ]
    }
   ],
   "source": [
    "for i in range(len(aux3)):\n",
    "    print(aux1[i].strip(), \"xxx\", aux3[i].strip())"
   ]
  },
  {
   "cell_type": "code",
   "execution_count": 24,
   "metadata": {},
   "outputs": [
    {
     "data": {
      "text/plain": [
       "Mobile Anomaly     1413044\n",
       "Non Tor Anomaly     557682\n",
       "Iot Anomaly          36523\n",
       "Name: Device Class, dtype: int64"
      ]
     },
     "execution_count": 24,
     "metadata": {},
     "output_type": "execute_result"
    }
   ],
   "source": [
    "result_df[\"Device Class\"].value_counts()"
   ]
  },
  {
   "cell_type": "code",
   "execution_count": 25,
   "metadata": {},
   "outputs": [
    {
     "data": {
      "text/html": [
       "<div>\n",
       "<style scoped>\n",
       "    .dataframe tbody tr th:only-of-type {\n",
       "        vertical-align: middle;\n",
       "    }\n",
       "\n",
       "    .dataframe tbody tr th {\n",
       "        vertical-align: top;\n",
       "    }\n",
       "\n",
       "    .dataframe thead th {\n",
       "        text-align: right;\n",
       "    }\n",
       "</style>\n",
       "<table border=\"1\" class=\"dataframe\">\n",
       "  <thead>\n",
       "    <tr style=\"text-align: right;\">\n",
       "      <th></th>\n",
       "      <th>ACK Flag Count</th>\n",
       "      <th>Active Max</th>\n",
       "      <th>Active Min</th>\n",
       "      <th>Active Std</th>\n",
       "      <th>Average Packet Size</th>\n",
       "      <th>Avg Bwd Segment Size</th>\n",
       "      <th>Avg Fwd Segment Size</th>\n",
       "      <th>Bwd Avg Bytes/Bulk</th>\n",
       "      <th>Bwd Avg Packets/Bulk</th>\n",
       "      <th>Bwd Header Length</th>\n",
       "      <th>...</th>\n",
       "      <th>Subflow Fwd Byts</th>\n",
       "      <th>Subflow Fwd Packets</th>\n",
       "      <th>Subflow Fwd Pkts</th>\n",
       "      <th>Timestamp</th>\n",
       "      <th>Tot Bwd Pkts</th>\n",
       "      <th>Tot Fwd Pkts</th>\n",
       "      <th>TotLen Bwd Pkts</th>\n",
       "      <th>TotLen Fwd Pkts</th>\n",
       "      <th>Total Length of Fwd Packets</th>\n",
       "      <th>URG Flag Cnt</th>\n",
       "    </tr>\n",
       "  </thead>\n",
       "  <tbody>\n",
       "    <tr>\n",
       "      <th>0</th>\n",
       "      <td>1.0</td>\n",
       "      <td>0.0</td>\n",
       "      <td>0.0</td>\n",
       "      <td>0.0</td>\n",
       "      <td>23.000000</td>\n",
       "      <td>0.0</td>\n",
       "      <td>23.0</td>\n",
       "      <td>0.0</td>\n",
       "      <td>0.0</td>\n",
       "      <td>32.0</td>\n",
       "      <td>...</td>\n",
       "      <td>NaN</td>\n",
       "      <td>1.0</td>\n",
       "      <td>NaN</td>\n",
       "      <td>NaN</td>\n",
       "      <td>NaN</td>\n",
       "      <td>NaN</td>\n",
       "      <td>NaN</td>\n",
       "      <td>NaN</td>\n",
       "      <td>23.0</td>\n",
       "      <td>NaN</td>\n",
       "    </tr>\n",
       "    <tr>\n",
       "      <th>1</th>\n",
       "      <td>1.0</td>\n",
       "      <td>0.0</td>\n",
       "      <td>0.0</td>\n",
       "      <td>0.0</td>\n",
       "      <td>0.000000</td>\n",
       "      <td>0.0</td>\n",
       "      <td>0.0</td>\n",
       "      <td>0.0</td>\n",
       "      <td>0.0</td>\n",
       "      <td>32.0</td>\n",
       "      <td>...</td>\n",
       "      <td>NaN</td>\n",
       "      <td>1.0</td>\n",
       "      <td>NaN</td>\n",
       "      <td>NaN</td>\n",
       "      <td>NaN</td>\n",
       "      <td>NaN</td>\n",
       "      <td>NaN</td>\n",
       "      <td>NaN</td>\n",
       "      <td>0.0</td>\n",
       "      <td>NaN</td>\n",
       "    </tr>\n",
       "    <tr>\n",
       "      <th>2</th>\n",
       "      <td>1.0</td>\n",
       "      <td>0.0</td>\n",
       "      <td>0.0</td>\n",
       "      <td>0.0</td>\n",
       "      <td>31.000000</td>\n",
       "      <td>0.0</td>\n",
       "      <td>15.5</td>\n",
       "      <td>0.0</td>\n",
       "      <td>0.0</td>\n",
       "      <td>0.0</td>\n",
       "      <td>...</td>\n",
       "      <td>NaN</td>\n",
       "      <td>2.0</td>\n",
       "      <td>NaN</td>\n",
       "      <td>NaN</td>\n",
       "      <td>NaN</td>\n",
       "      <td>NaN</td>\n",
       "      <td>NaN</td>\n",
       "      <td>NaN</td>\n",
       "      <td>31.0</td>\n",
       "      <td>NaN</td>\n",
       "    </tr>\n",
       "    <tr>\n",
       "      <th>3</th>\n",
       "      <td>1.0</td>\n",
       "      <td>0.0</td>\n",
       "      <td>0.0</td>\n",
       "      <td>0.0</td>\n",
       "      <td>0.000000</td>\n",
       "      <td>0.0</td>\n",
       "      <td>0.0</td>\n",
       "      <td>0.0</td>\n",
       "      <td>0.0</td>\n",
       "      <td>0.0</td>\n",
       "      <td>...</td>\n",
       "      <td>NaN</td>\n",
       "      <td>2.0</td>\n",
       "      <td>NaN</td>\n",
       "      <td>NaN</td>\n",
       "      <td>NaN</td>\n",
       "      <td>NaN</td>\n",
       "      <td>NaN</td>\n",
       "      <td>NaN</td>\n",
       "      <td>0.0</td>\n",
       "      <td>NaN</td>\n",
       "    </tr>\n",
       "    <tr>\n",
       "      <th>4</th>\n",
       "      <td>0.0</td>\n",
       "      <td>0.0</td>\n",
       "      <td>0.0</td>\n",
       "      <td>0.0</td>\n",
       "      <td>103.571429</td>\n",
       "      <td>89.0</td>\n",
       "      <td>123.0</td>\n",
       "      <td>0.0</td>\n",
       "      <td>0.0</td>\n",
       "      <td>136.0</td>\n",
       "      <td>...</td>\n",
       "      <td>NaN</td>\n",
       "      <td>3.0</td>\n",
       "      <td>NaN</td>\n",
       "      <td>NaN</td>\n",
       "      <td>NaN</td>\n",
       "      <td>NaN</td>\n",
       "      <td>NaN</td>\n",
       "      <td>NaN</td>\n",
       "      <td>369.0</td>\n",
       "      <td>NaN</td>\n",
       "    </tr>\n",
       "  </tbody>\n",
       "</table>\n",
       "<p>5 rows × 163 columns</p>\n",
       "</div>"
      ],
      "text/plain": [
       "    ACK Flag Count   Active Max   Active Min   Active Std  \\\n",
       "0              1.0          0.0          0.0          0.0   \n",
       "1              1.0          0.0          0.0          0.0   \n",
       "2              1.0          0.0          0.0          0.0   \n",
       "3              1.0          0.0          0.0          0.0   \n",
       "4              0.0          0.0          0.0          0.0   \n",
       "\n",
       "    Average Packet Size   Avg Bwd Segment Size   Avg Fwd Segment Size  \\\n",
       "0             23.000000                    0.0                   23.0   \n",
       "1              0.000000                    0.0                    0.0   \n",
       "2             31.000000                    0.0                   15.5   \n",
       "3              0.000000                    0.0                    0.0   \n",
       "4            103.571429                   89.0                  123.0   \n",
       "\n",
       "    Bwd Avg Bytes/Bulk   Bwd Avg Packets/Bulk   Bwd Header Length  ...  \\\n",
       "0                  0.0                    0.0                32.0  ...   \n",
       "1                  0.0                    0.0                32.0  ...   \n",
       "2                  0.0                    0.0                 0.0  ...   \n",
       "3                  0.0                    0.0                 0.0  ...   \n",
       "4                  0.0                    0.0               136.0  ...   \n",
       "\n",
       "   Subflow Fwd Byts  Subflow Fwd Packets  Subflow Fwd Pkts  Timestamp  \\\n",
       "0               NaN                  1.0               NaN        NaN   \n",
       "1               NaN                  1.0               NaN        NaN   \n",
       "2               NaN                  2.0               NaN        NaN   \n",
       "3               NaN                  2.0               NaN        NaN   \n",
       "4               NaN                  3.0               NaN        NaN   \n",
       "\n",
       "   Tot Bwd Pkts  Tot Fwd Pkts  TotLen Bwd Pkts  TotLen Fwd Pkts  \\\n",
       "0           NaN           NaN              NaN              NaN   \n",
       "1           NaN           NaN              NaN              NaN   \n",
       "2           NaN           NaN              NaN              NaN   \n",
       "3           NaN           NaN              NaN              NaN   \n",
       "4           NaN           NaN              NaN              NaN   \n",
       "\n",
       "   Total Length of Fwd Packets  URG Flag Cnt  \n",
       "0                         23.0           NaN  \n",
       "1                          0.0           NaN  \n",
       "2                         31.0           NaN  \n",
       "3                          0.0           NaN  \n",
       "4                        369.0           NaN  \n",
       "\n",
       "[5 rows x 163 columns]"
      ]
     },
     "execution_count": 25,
     "metadata": {},
     "output_type": "execute_result"
    }
   ],
   "source": [
    "result_df.head(5)"
   ]
  },
  {
   "cell_type": "code",
   "execution_count": null,
   "metadata": {},
   "outputs": [],
   "source": []
  }
 ],
 "metadata": {
  "kernelspec": {
   "display_name": "Python 3",
   "language": "python",
   "name": "python3"
  },
  "language_info": {
   "codemirror_mode": {
    "name": "ipython",
    "version": 3
   },
   "file_extension": ".py",
   "mimetype": "text/x-python",
   "name": "python",
   "nbconvert_exporter": "python",
   "pygments_lexer": "ipython3",
   "version": "3.7.9"
  }
 },
 "nbformat": 4,
 "nbformat_minor": 4
}
