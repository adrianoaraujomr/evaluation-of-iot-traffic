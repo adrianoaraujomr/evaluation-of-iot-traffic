{
 "cells": [
  {
   "cell_type": "markdown",
   "metadata": {},
   "source": [
    "## Referências\n",
    "\n",
    "* https://www.kaggle.com/pmarcelino/comprehensive-data-exploration-with-python"
   ]
  },
  {
   "cell_type": "markdown",
   "metadata": {},
   "source": [
    "## Bibliotecas"
   ]
  },
  {
   "cell_type": "code",
   "execution_count": 4,
   "metadata": {},
   "outputs": [],
   "source": [
    "import pandas as pd\n",
    "import matplotlib.pyplot as plt\n",
    "import seaborn as sns\n",
    "import numpy as np\n",
    "from scipy.stats import norm\n",
    "from sklearn.preprocessing import StandardScaler\n",
    "from scipy import stats"
   ]
  },
  {
   "cell_type": "markdown",
   "metadata": {},
   "source": [
    "## Carregando datasets"
   ]
  },
  {
   "cell_type": "code",
   "execution_count": 17,
   "metadata": {},
   "outputs": [
    {
     "data": {
      "text/plain": [
       "Index(['Src Port', 'Dst Port', 'Protocol', 'Flow Duration', 'Total Fwd Packet',\n",
       "       'Total Bwd packets', 'Total Length of Fwd Packet',\n",
       "       'Total Length of Bwd Packet', 'Fwd Packet Length Max',\n",
       "       'Fwd Packet Length Min', 'Fwd Packet Length Mean',\n",
       "       'Fwd Packet Length Std', 'Bwd Packet Length Max',\n",
       "       'Bwd Packet Length Min', 'Bwd Packet Length Mean',\n",
       "       'Bwd Packet Length Std', 'Flow Bytes/s', 'Flow Packets/s',\n",
       "       'Flow IAT Mean', 'Flow IAT Std', 'Flow IAT Max', 'Flow IAT Min',\n",
       "       'Fwd IAT Total', 'Fwd IAT Mean', 'Fwd IAT Std', 'Fwd IAT Max',\n",
       "       'Fwd IAT Min', 'Bwd IAT Total', 'Bwd IAT Mean', 'Bwd IAT Std',\n",
       "       'Bwd IAT Max', 'Bwd IAT Min', 'Fwd PSH Flags', 'Bwd PSH Flags',\n",
       "       'Bwd URG Flags', 'Fwd Header Length', 'Bwd Header Length',\n",
       "       'Fwd Packets/s', 'Bwd Packets/s', 'Packet Length Min',\n",
       "       'Packet Length Max', 'Packet Length Mean', 'Packet Length Std',\n",
       "       'Packet Length Variance', 'FIN Flag Count', 'SYN Flag Count',\n",
       "       'RST Flag Count', 'PSH Flag Count', 'ACK Flag Count', 'Down/Up Ratio',\n",
       "       'Average Packet Size', 'Fwd Segment Size Avg', 'Bwd Segment Size Avg',\n",
       "       'Subflow Fwd Packets', 'Subflow Fwd Bytes', 'Subflow Bwd Packets',\n",
       "       'Subflow Bwd Bytes', 'FWD Init Win Bytes', 'Bwd Init Win Bytes',\n",
       "       'Fwd Act Data Pkts', 'Fwd Seg Size Min', 'Active Mean', 'Active Std',\n",
       "       'Active Max', 'Active Min', 'Idle Mean', 'Idle Std', 'Idle Max',\n",
       "       'Idle Min', 'Device Class'],\n",
       "      dtype='object')"
      ]
     },
     "execution_count": 17,
     "metadata": {},
     "output_type": "execute_result"
    }
   ],
   "source": [
    "#df = pd.read_csv('./datasets/original/benignos/dataSet.csv')\n",
    "df = pd.read_csv('./datasets/experimento-extra/dataset_exp-extra_05_05_05-21.csv')\n",
    "df.columns"
   ]
  },
  {
   "cell_type": "markdown",
   "metadata": {},
   "source": [
    "### Colunas do dataset\n",
    "\n",
    "Flow ID  : identificador do fluxo  \n",
    "Src IP : endereço ip de origem  \n",
    "Src Port : número da porta de origem  \n",
    "Dst IP :  endereço ip do destion  \n",
    "Dst Port : número da porta de destion  \n",
    "Protocol : protocolo  \n",
    "Timestamp :   \n",
    "Flow Duration : duração do fluxo em microsegundos  \n",
    "Tot Fwd Pkts : total de pacotes enviados (forward)  \n",
    "Tot Bwd Pkts : total de pacotes recebidos (backward)  \n",
    "TotLen Fwd Pkts : tamanho total dos pacotes enviados  \n",
    "TotLen Bwd Pkts : tamanho total dos pacotes recebidos  \n",
    "Fwd Pkt Len Max : tamanho do maior pacote enviados  \n",
    "Fwd Pkt Len Min : tamanho do menor pacote enviados  \n",
    "Fwd Pkt Len Mean : media do tamanho dos pacotes enviados  \n",
    "Fwd Pkt Len Std : desvio padrão do tamanho dos pacotes enviados  \n",
    "Bwd Pkt Len Max : tamanho do maior pacote recebido  \n",
    "Bwd Pkt Len Min : tamanho do menor pacote recebido  \n",
    "Bwd Pkt Len Mean :  media do tamanho dos pacotes recebidos  \n",
    "Bwd Pkt Len Std : desvio padrão do tamanho dos pacotes recebidos  \n",
    "Flow Byts/s : número de bytes por segundo do fluxo  \n",
    "Flow Pkts/s : número de pacotes por segundo do fluxo  \n",
    "Flow IAT Mean : tempo médio entre o envio de dois pacotes no fluxo  \n",
    "Flow IAT Std : desvio padrão do tempo de envio entre dois pacotes no fluxo  \n",
    "Flow IAT Max : maior valor de tempo entre o envio de dois pacotes no fluxo   \n",
    "Flow IAT Min : menor valor de tempo entre o envio de dois pacotes no fluxo  \n",
    "Fwd IAT Tot : valor total de tempo entre o envio de dois pacotes  \n",
    "Fwd IAT Mean : tempo médio entre o envio de dois pacotes  \n",
    "Fwd IAT Std : desvio padrão do tempo de envio entre dois pacotes  \n",
    "Fwd IAT Max : maior valor de tempo entre o envio de dois pacotes  \n",
    "Fwd IAT Min : menor valor de tempo entre o envio de dois pacotes  \n",
    "Bwd IAT Tot : valor total de tempo entre o recebimento de dois pacotes  \n",
    "Bwd IAT Mean : tempo médio entre o recebimento de dois pacotes  \n",
    "Bwd IAT Std : desvio padrão do tempo de recebimento entre dois pacotes  \n",
    "Bwd IAT Max : maior valor de tempo entre o recebimento de dois pacotes  \n",
    "Bwd IAT Min : menor valor de tempo entre o recebimento de dois pacotes  \n",
    "Fwd PSH Flags : número de vezes que a flag PSH foi posta em pacatoes enviados (0 para UDP)  \n",
    "Bwd PSH Flags : número de vezes que a flag PSH foi posta em pacatoes recebidos (0 para UDP)  \n",
    "Fwd URG Flags : número de vezes que a flag URG foi posta em pacatoes enviados (0 para UDP)  \n",
    "Bwd URG Flags : número de vezes que a flag URG foi posta em pacatoes recebidos (0 para UDP)  \n",
    "Fwd Header Len : tamanho total de headers usados em pacotes enviados  \n",
    "Bwd Header Len : tamanho total de headers usados em pacotes recebidos  \n",
    "Fwd Pkts/s : número de pacotes enviados por segundo  \n",
    "Bwd Pkts/s : número de pacotes recebidos por segundo  \n",
    "Pkt Len Min : menor tamanho de um pacote  \n",
    "Pkt Len Max : maior tamanho de um pacote  \n",
    "Pkt Len Mean : média do tamanho de pacotes  \n",
    "Pkt Len Std : desvio padrão do tamanho de pacotes  \n",
    "Pkt Len Var : variância do tamanho de pacotes  \n",
    "FIN Flag Cnt : número de pacotes com a flag FIN  \n",
    "SYN Flag Cnt : número de pacotes com a flag SYN  \n",
    "RST Flag Cnt : número de pacotes com a flag RST  \n",
    "PSH Flag Cnt : número de pacotes com a flag PSH  \n",
    "ACK Flag Cnt : número de pacotes com a flag ACK  \n",
    "URG Flag Cnt : número de pacotes com a flag URG  \n",
    "CWE Flag Count : número de pacotes com a flag CWE  \n",
    "ECE Flag Cnt : número de pacotes com a flag ECE  \n",
    "Down/Up Ratio : taxa de download e upload  \n",
    "Pkt Size Avg : tamanho médio de um pacote  \n",
    "Fwd Seg Size Avg : tamanho médio de um pacote enviado  \n",
    "Bwd Seg Size Avg : tamanho médio de um pacote recebido  \n",
    "Fwd Byts/b Avg : Average number of bytes bulk rate in the forward direction ??  \n",
    "Fwd Pkts/b Avg : Average number of packets bulk rate in the forward direction ??  \n",
    "Fwd Blk Rate Avg : Average number of bulk rate in the forward direction  \n",
    "Bwd Byts/b Avg : Average number of bytes bulk rate in the backward direction ??  \n",
    "Bwd Pkts/b Avg : Average number of packets bulk rate in the backward direction ??  \n",
    "Bwd Blk Rate Avg : Average number of bulk rate in the backward direction  \n",
    "Subflow Fwd Pkts : número médio de pacotes em um subflow para pacotes enviados  \n",
    "Subflow Fwd Byts : número médio de bytes em um subflow para pacotes enviados  \n",
    "Subflow Bwd Pkts : número médio de pacotes em um subflow para pacotes recebidos   \n",
    "Subflow Bwd Byts : número médio de bytes em um subflow para pacotes recebidos  \n",
    "Init Fwd Win Byts : número total de bytes enviados na janela incial para pacotes enviados  \n",
    "Init Bwd Win Byts : número total de bytes enviados na janela incial para pacotes recebidos  \n",
    "Fwd Act Data Pkts : contagem de pacotes com pelo menos 1 byte de payload tcp enviado  \n",
    "Fwd Seg Size Min : menor tamanho observado de um segmento enviado  \n",
    "Active Mean : tempo médio que o fluxo ficou ativo antes de ficar ocioso  \n",
    "Active Std : desvio padrão tempo que o fluxo ficou ativo antes de ficar ocioso  \n",
    "Active Max : maior tempo que o fluxo ficou ativo antes de ficar ocioso  \n",
    "Active Min : menor tempo que o fluxo ficou ativo antes de ficar ocioso  \n",
    "Idle Mean : tempo médio que o fluxo estava ocioso antes de ficar ativo  \n",
    "Idle Std : desvio padrão do tempo que o fluxo estava ocioso antes de ficar ativo  \n",
    "Idle Max : maior tempo que o fluxo estava ociosos antes de ser acionado  \n",
    "Idle Min : menor tempo que o fluxo estava ociosos antes de ser acionado  \n",
    "Label :   \n",
    "Class : diferenciados do dataset de origem do fluxo  "
   ]
  },
  {
   "cell_type": "markdown",
   "metadata": {},
   "source": [
    "## Remover colunas que não serão usadas no processo de classificação"
   ]
  },
  {
   "cell_type": "markdown",
   "metadata": {},
   "source": [
    "### Colunas identificadoras"
   ]
  },
  {
   "cell_type": "markdown",
   "metadata": {},
   "source": [
    "* 'Unnamed: 0' é uma coluna de indices por isso não será usada\n",
    "* 'Flow ID' será removida por ser um coluna que identifica cada fluxo\n",
    "* Endereço IP de origem e destino também removidos (identificador de máquinas no contexto de redes de computadores)\n",
    "* Como é buscado um modelo capaz de generalizar, tirar essas colunas faz sentido"
   ]
  },
  {
   "cell_type": "code",
   "execution_count": 7,
   "metadata": {},
   "outputs": [],
   "source": [
    "will_be_removed = [\"Unnamed: 0\", \"Timestamp\", \"Flow ID\", \"Src IP\", \"Dst IP\"] \n",
    "df = df.drop(will_be_removed, axis=1)"
   ]
  },
  {
   "cell_type": "markdown",
   "metadata": {},
   "source": [
    "### Colunas com valores iguais para todas linhas do datasets"
   ]
  },
  {
   "cell_type": "code",
   "execution_count": 5,
   "metadata": {},
   "outputs": [],
   "source": [
    "aux = df.nunique()\n",
    "aux = aux[aux <= 1]"
   ]
  },
  {
   "cell_type": "code",
   "execution_count": 6,
   "metadata": {},
   "outputs": [
    {
     "data": {
      "text/plain": [
       "['Bwd PSH Flags', 'Bwd URG Flags']"
      ]
     },
     "execution_count": 6,
     "metadata": {},
     "output_type": "execute_result"
    }
   ],
   "source": [
    "col_to_drop = aux.index.values.tolist()\n",
    "col_to_drop"
   ]
  },
  {
   "cell_type": "code",
   "execution_count": null,
   "metadata": {},
   "outputs": [],
   "source": [
    "df.drop(col_to_drop, axis=1, inplace=True)"
   ]
  },
  {
   "cell_type": "markdown",
   "metadata": {},
   "source": [
    "### Colunas problematicas"
   ]
  },
  {
   "cell_type": "code",
   "execution_count": null,
   "metadata": {},
   "outputs": [],
   "source": [
    "will_be_removed = [\"Subflow Fwd Packets\", \"Subflow Bwd Packets\"] \n",
    "df = df.drop(will_be_removed, axis=1)"
   ]
  },
  {
   "cell_type": "markdown",
   "metadata": {},
   "source": [
    "## Verificação dos tipos de cada coluna do dataset"
   ]
  },
  {
   "cell_type": "code",
   "execution_count": 18,
   "metadata": {},
   "outputs": [],
   "source": [
    "object_columns = ['Flow ID', 'Src IP', 'Dst IP', 'Timestamp', 'Device Class', 'Label']\n",
    "\n",
    "def find_object_columns(df):\n",
    "    aux = df.dtypes\n",
    "    obj_types = aux[aux == 'object'].index.values.tolist()\n",
    "    result = [x for x in obj_types if x not in object_columns]\n",
    "    return result\n",
    "                \n",
    "def is_infinity(value):\n",
    "    if 'inf' in str(value).lower():\n",
    "        return True\n",
    "    return False\n",
    "\n",
    "def find_strings_or_infinity(df):\n",
    "    possible_cols = find_object_columns(df)\n",
    "    to_drop = []\n",
    "    for column in possible_cols:\n",
    "        aux = df[column]\n",
    "        to_drop += df[aux.apply(lambda x: is_infinity(x) )].index.values.tolist()\n",
    "    \n",
    "    return (list(set(to_drop)), possible_cols)"
   ]
  },
  {
   "cell_type": "code",
   "execution_count": 19,
   "metadata": {},
   "outputs": [
    {
     "name": "stdout",
     "output_type": "stream",
     "text": [
      "Empty DataFrame\n",
      "Columns: [Flow Bytes/s, Flow Packets/s]\n",
      "Index: []\n",
      "-----------\n",
      "Empty DataFrame\n",
      "Columns: [Flow Bytes/s, Flow Packets/s]\n",
      "Index: []\n"
     ]
    }
   ],
   "source": [
    "#df.info()\n",
    "aux = df.dtypes\n",
    "\n",
    "print(df.loc[lines, cols])\n",
    "lines, cols = find_strings_or_infinity(df)\n",
    "print(\"-----------\")\n",
    "df.drop(lines, axis=0, inplace=True)\n",
    "lines, cols = find_strings_or_infinity(df)\n",
    "print(df.loc[lines, cols])"
   ]
  },
  {
   "cell_type": "code",
   "execution_count": 22,
   "metadata": {},
   "outputs": [
    {
     "data": {
      "text/plain": [
       "False"
      ]
     },
     "execution_count": 22,
     "metadata": {},
     "output_type": "execute_result"
    }
   ],
   "source": [
    "'inf' in '10.0'"
   ]
  },
  {
   "cell_type": "code",
   "execution_count": 52,
   "metadata": {},
   "outputs": [
    {
     "name": "stdout",
     "output_type": "stream",
     "text": [
      "[648327, 923035]\n"
     ]
    }
   ],
   "source": [
    "indexes = []\n",
    "for col in helpaux:\n",
    "    aux = df[col]\n",
    "    indexes = df[aux.apply(lambda x: is_not_float(x))].index.values.tolist()\n",
    "    print()"
   ]
  },
  {
   "cell_type": "code",
   "execution_count": 58,
   "metadata": {},
   "outputs": [
    {
     "data": {
      "text/plain": [
       "inf"
      ]
     },
     "execution_count": 58,
     "metadata": {},
     "output_type": "execute_result"
    }
   ],
   "source": []
  },
  {
   "cell_type": "markdown",
   "metadata": {},
   "source": [
    "Algumas colunas tem como tipo de dados algo diferente do esperado, levando em conta o seu significado. As que chamam mais atenção no caso são as colunas Bwd PSH Flags e Bwd PSH Flags, que deveriam ser valores inteiro mas estão como object ([pandas tipos de dados](https://pbpython.com/pandas_dtypes.html)), o que pode indicar que alguma valor string foi inserido nesta coluna."
   ]
  },
  {
   "cell_type": "markdown",
   "metadata": {},
   "source": [
    "### Verificar o motivo de Bwd Header Len e Bwd PSH Flags estarem com o tipo objeto"
   ]
  },
  {
   "cell_type": "markdown",
   "metadata": {},
   "source": [
    "Por inspeção visual notou-se que o motivo dessas colunas estarem com um tipo diferente é devido a valores 'No Label' que estavam na coluna."
   ]
  },
  {
   "cell_type": "markdown",
   "metadata": {},
   "source": [
    "Remover linhas com valor 'No Label'. A principio não faria sentido ter esse valor. Como são poucas linhas com esse valor parece mais razoavel eliminalas do que preencher com outro valor, visto que a causa desse 'No Label' é desconhecida."
   ]
  },
  {
   "cell_type": "code",
   "execution_count": null,
   "metadata": {},
   "outputs": [],
   "source": [
    "indxs = []\n",
    "\n",
    "head = df[\"Bwd Header Len\"]\n",
    "flag = df[\"Bwd PSH Flags\"]\n",
    "\n",
    "indxs += flag[flag == 'No Label'].index.values.tolist() #This line dont make sense\n",
    "indxs += head[head == 'No Label'].index.values.tolist()\n",
    "\n",
    "df.drop(indxs, axis=0, inplace=True)\n",
    "df = df.reset_index()\n",
    "df.drop([\"index\"], axis=1, inplace=True)"
   ]
  },
  {
   "cell_type": "markdown",
   "metadata": {},
   "source": [
    "Os tipo de dados que fariam sentido para essa coluna deveriam ser inteiros ou floats, visto isso procuraremos linhas com valores cujo tipo não condiz com nenhuma das anterirores"
   ]
  },
  {
   "cell_type": "code",
   "execution_count": null,
   "metadata": {},
   "outputs": [],
   "source": [
    "int_aux = type(head.iloc[0])\n",
    "flt_aux = type(head.iloc[647168])\n",
    "\n",
    "haux = head[head.apply(lambda x: ((type(x) != int_aux) and (type(x) != flt_aux)))]"
   ]
  },
  {
   "cell_type": "markdown",
   "metadata": {},
   "source": [
    "Por inspeção visual foi visto que a esses valores são strings que possuem apenas digitos, logo uma conversão simples deveria bastar. O esperado é que se houver uma string que não condiz com um número um erro levantara e deveriamos inspecionar tal valor. Antes de fazer a conversão faremos a remoção de linhas com valores Nan, já que com elas presentes a conversão levantará um erro e não ira completar"
   ]
  },
  {
   "cell_type": "code",
   "execution_count": null,
   "metadata": {},
   "outputs": [],
   "source": [
    "x = []\n",
    "\n",
    "h_aux_1 = df[\"Bwd Header Len\"]\n",
    "h_aux_2 = df[\"Bwd PSH Flags\"]\n",
    "\n",
    "#print(h_aux_1.isna().sum()/h_aux_1.isna().count())\n",
    "#print(h_aux_2.isna().sum()/h_aux_2.isna().count())\n",
    "\n",
    "x += h_aux_1[h_aux_1.isna()].index.values.tolist()\n",
    "x += h_aux_2[h_aux_2.isna()].index.values.tolist()\n",
    "\n",
    "df.drop(x, axis=0, inplace=True)\n",
    "df = df.reset_index()\n",
    "df.drop([\"index\"], axis=1, inplace=True)"
   ]
  },
  {
   "cell_type": "markdown",
   "metadata": {},
   "source": [
    "Conversão das colunas \"Bwd Header Len\" e \"Bwd PSH Flags\" para tipos que condizem com sua descrição"
   ]
  },
  {
   "cell_type": "code",
   "execution_count": null,
   "metadata": {},
   "outputs": [],
   "source": [
    "cols = [\"Bwd Header Len\", \"Bwd PSH Flags\"]\n",
    "for col in cols:\n",
    "    df[col] = df[col].astype('float64')"
   ]
  },
  {
   "cell_type": "markdown",
   "metadata": {},
   "source": [
    "Ao comparar as saidas do df.info() com a descrição de cada coluna é possivel notar que diversas colunas que são valores inteiros foram listadas como float. Logo sera feito primeramente uma verificação para verificar se os float dessas colunas realmente possuem apenas valores inteiros, caso positivo a conversão será feita."
   ]
  },
  {
   "cell_type": "code",
   "execution_count": null,
   "metadata": {},
   "outputs": [],
   "source": [
    "float_to_int = [\"Src Port\", \"Dst Port\", \"Protocol\", \"Tot Fwd Pkts\", \"Tot Bwd Pkts\", \"TotLen Fwd Pkts\", \"TotLen Bwd Pkts\", \"Fwd Pkt Len Max\", \"Fwd Pkt Len Min\", \"Bwd Pkt Len Max\",\n",
    "\"Bwd Pkt Len Min\", \"Fwd PSH Flags\", \"Bwd PSH Flags\", \"Bwd URG Flags\", \"Fwd Header Len\", \"Bwd Header Len\", \"Pkt Len Min\", \"Pkt Len Max\", \"FIN Flag Cnt\", \"SYN Flag Cnt\",\n",
    "\"RST Flag Cnt\", \"PSH Flag Cnt\", \"ACK Flag Cnt\", \"Init Fwd Win Byts\", \"Init Bwd Win Byts\", \"Fwd Act Data Pkts\", \"Fwd Seg Size Min\"]\n",
    "\n",
    "fli_df = df[float_to_int] #2079182\n",
    "aux = fli_df.applymap(lambda x: x.is_integer())\n",
    "aux.sum()/aux.count()"
   ]
  },
  {
   "cell_type": "markdown",
   "metadata": {},
   "source": [
    "## Valores faltantes"
   ]
  },
  {
   "cell_type": "code",
   "execution_count": 10,
   "metadata": {
    "collapsed": true,
    "jupyter": {
     "outputs_hidden": true
    }
   },
   "outputs": [
    {
     "data": {
      "text/plain": [
       "Unnamed: 0                    0\n",
       "Device Class                  0\n",
       "Dst Port                      1\n",
       "Fwd Packets/s                 1\n",
       "Bwd Packets/s                 1\n",
       "Packet Length Min             1\n",
       "Packet Length Max             1\n",
       "Packet Length Mean            1\n",
       "Packet Length Std             1\n",
       "Packet Length Variance        1\n",
       "FIN Flag Count                1\n",
       "SYN Flag Count                1\n",
       "RST Flag Count                1\n",
       "PSH Flag Count                1\n",
       "ACK Flag Count                1\n",
       "Down/Up Ratio                 1\n",
       "Average Packet Size           1\n",
       "Fwd Segment Size Avg          1\n",
       "Bwd Segment Size Avg          1\n",
       "Subflow Fwd Packets           1\n",
       "Idle Max                      1\n",
       "Idle Std                      1\n",
       "Idle Mean                     1\n",
       "Active Min                    1\n",
       "Active Max                    1\n",
       "Active Std                    1\n",
       "Bwd Header Length             1\n",
       "Active Mean                   1\n",
       "Fwd Act Data Pkts             1\n",
       "Bwd Init Win Bytes            1\n",
       "                             ..\n",
       "Total Bwd packets             1\n",
       "Total Length of Fwd Packet    1\n",
       "Total Length of Bwd Packet    1\n",
       "Fwd Packet Length Max         1\n",
       "Fwd Packet Length Min         1\n",
       "Fwd Packet Length Mean        1\n",
       "Fwd Packet Length Std         1\n",
       "Bwd Packet Length Max         1\n",
       "Bwd Packet Length Min         1\n",
       "Bwd Packet Length Mean        1\n",
       "Bwd Packet Length Std         1\n",
       "Flow Bytes/s                  1\n",
       "Flow Packets/s                1\n",
       "Flow IAT Mean                 1\n",
       "Fwd PSH Flags                 1\n",
       "Bwd IAT Min                   1\n",
       "Bwd IAT Max                   1\n",
       "Bwd IAT Std                   1\n",
       "Bwd IAT Mean                  1\n",
       "Bwd IAT Total                 1\n",
       "Idle Min                      1\n",
       "Fwd IAT Min                   1\n",
       "Fwd IAT Std                   1\n",
       "Fwd IAT Mean                  1\n",
       "Fwd IAT Total                 1\n",
       "Flow IAT Min                  1\n",
       "Flow IAT Max                  1\n",
       "Flow IAT Std                  1\n",
       "Fwd IAT Max                   1\n",
       "Bwd URG Flags                 1\n",
       "Length: 71, dtype: int64"
      ]
     },
     "execution_count": 10,
     "metadata": {},
     "output_type": "execute_result"
    }
   ],
   "source": [
    "(df.isna().sum()).sort_values()"
   ]
  },
  {
   "cell_type": "code",
   "execution_count": 15,
   "metadata": {},
   "outputs": [],
   "source": [
    "df.drop(df[df['Src Port'].isna()].index.values.tolist(), axis=0, inplace=True)"
   ]
  },
  {
   "cell_type": "code",
   "execution_count": 17,
   "metadata": {},
   "outputs": [
    {
     "data": {
      "text/plain": [
       "0"
      ]
     },
     "execution_count": 17,
     "metadata": {},
     "output_type": "execute_result"
    }
   ],
   "source": [
    "(df.isna().sum()).sum()"
   ]
  },
  {
   "cell_type": "markdown",
   "metadata": {},
   "source": [
    "## Salvar dataset apos transformações"
   ]
  },
  {
   "cell_type": "code",
   "execution_count": 19,
   "metadata": {},
   "outputs": [],
   "source": [
    "df.to_csv(\"./datasets/original/dataSetCleaned.csv\", index=False)"
   ]
  }
 ],
 "metadata": {
  "kernelspec": {
   "display_name": "Python 3",
   "language": "python",
   "name": "python3"
  },
  "language_info": {
   "codemirror_mode": {
    "name": "ipython",
    "version": 3
   },
   "file_extension": ".py",
   "mimetype": "text/x-python",
   "name": "python",
   "nbconvert_exporter": "python",
   "pygments_lexer": "ipython3",
   "version": "3.7.9"
  }
 },
 "nbformat": 4,
 "nbformat_minor": 4
}
