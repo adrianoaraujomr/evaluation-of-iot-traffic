{
 "cells": [
  {
   "cell_type": "markdown",
   "metadata": {},
   "source": [
    "# Teste de hipóteses para tcc"
   ]
  },
  {
   "cell_type": "code",
   "execution_count": 1,
   "metadata": {},
   "outputs": [],
   "source": [
    "from scipy.stats import ttest_ind\n",
    "from scipy import stats\n",
    "import pandas as pd\n",
    "import numpy as np\n",
    "import os"
   ]
  },
  {
   "cell_type": "code",
   "execution_count": 2,
   "metadata": {},
   "outputs": [],
   "source": [
    "def seleciona_colunas(df):\n",
    "    df = df[(df[\"train_method\"] == \"Grid Search 3 folds\") & (df[\"selecao_feat\"] == \"Tree\")]\n",
    "    df = df[[\"classe\", \"dataset_treino\", \"dataset_test\", \"algoritmo\", \"f1\"]]\n",
    "    return df"
   ]
  },
  {
   "cell_type": "code",
   "execution_count": 3,
   "metadata": {},
   "outputs": [],
   "source": [
    "def atribui_label_1(dataset_nome):\n",
    "    if \"05_05_05\" in dataset_nome:\n",
    "        return 1\n",
    "    if \"05_10_00\" in dataset_nome:\n",
    "        return 2\n",
    "    if \"05_00_10\" in dataset_nome:\n",
    "        return 3"
   ]
  },
  {
   "cell_type": "code",
   "execution_count": 4,
   "metadata": {},
   "outputs": [],
   "source": [
    "def atribui_label_2(dataset_nome):\n",
    "    return dataset_nome.split(\"_\")[0].replace(\"-\", \" \").title()"
   ]
  },
  {
   "cell_type": "markdown",
   "metadata": {},
   "source": [
    "### Merge resultados"
   ]
  },
  {
   "cell_type": "code",
   "execution_count": 9,
   "metadata": {},
   "outputs": [],
   "source": [
    "files = [file for file in os.listdir(\"./resultados\") if \".csv\" in file]"
   ]
  },
  {
   "cell_type": "code",
   "execution_count": 10,
   "metadata": {},
   "outputs": [],
   "source": [
    "exp_1_files = [file for file in files if \"experimento_1\" in file]\n",
    "\n",
    "df_exp_1 = pd.DataFrame()\n",
    "for file in exp_1_files:\n",
    "    df_exp_1 = pd.concat([pd.read_csv(\"./resultados/\" + file), df_exp_1])\n",
    "    \n",
    "df_exp_1 = df_exp_1[df_exp_1[\"train_method\"] == \"Grid Search 3 folds\"]\n",
    "df_exp_1 = df_exp_1[df_exp_1[\"selecao_feat\"] == \"Tree\"]\n",
    "df_exp_1[\"treino\"] = df_exp_1[\"dataset_treino\"].apply(atribui_label_1)\n",
    "df_exp_1 = df_exp_1[[\"algoritmo\", \"treino\", \"acuracia\", \"precisao\", \"recall\", \"f1\"]]"
   ]
  },
  {
   "cell_type": "code",
   "execution_count": 11,
   "metadata": {},
   "outputs": [],
   "source": [
    "exp_2_files = [file for file in files if \"experimento_2\" in file]\n",
    "\n",
    "df_exp_2 = pd.DataFrame()\n",
    "for file in exp_2_files:\n",
    "    df_exp_2 = pd.concat([pd.read_csv(\"./resultados/\" + file), df_exp_2])\n",
    "    \n",
    "df_exp_2 = df_exp_2[df_exp_2[\"train_method\"] == \"Grid Search 3 folds\"]\n",
    "df_exp_2 = df_exp_2[df_exp_2[\"selecao_feat\"] == \"Tree\"]\n",
    "df_exp_2[\"treino\"] = df_exp_2[\"dataset_treino\"].apply(atribui_label_2)\n",
    "df_exp_2 = df_exp_2[[\"algoritmo\", \"treino\", \"acuracia\", \"precisao\", \"recall\", \"f1\"]]"
   ]
  },
  {
   "cell_type": "markdown",
   "metadata": {},
   "source": [
    "### Hipótese Experimento 1\n",
    "\n",
    "**Idealmente um modelo será treinado com amostras de tráfego classificado como iot e não iot. Dentro da categória não iot, temos dois possiveis tipos de tráfegos, aqueles advindo de dispostivos mobiles, smarthphones e aqueles advindo de computadores de propósito geral, desktops e notebooks. Neste primeiro teste buscamos verificar se um modelo de machine-learning treinado com apenas um dos tipos de tráfego não iot, possui uma acuracia diferente de um modelo treinado com os dois tipos de trafego.**  \n",
    "  \n",
    "Hipótese Nula          : não há diferença de f1 quando treinamos o modelo com apenas um dos dois tipos de tráfego não iot.    \n",
    "Hipótese Alternativa   : há diferença de f1 quando treinamos o modelo com apenas um dos dois tipos de tráfego não iot.  \n",
    "Nível de significância : 5%"
   ]
  },
  {
   "cell_type": "code",
   "execution_count": 12,
   "metadata": {},
   "outputs": [
    {
     "data": {
      "text/html": [
       "<div>\n",
       "<style scoped>\n",
       "    .dataframe tbody tr th:only-of-type {\n",
       "        vertical-align: middle;\n",
       "    }\n",
       "\n",
       "    .dataframe tbody tr th {\n",
       "        vertical-align: top;\n",
       "    }\n",
       "\n",
       "    .dataframe thead th {\n",
       "        text-align: right;\n",
       "    }\n",
       "</style>\n",
       "<table border=\"1\" class=\"dataframe\">\n",
       "  <thead>\n",
       "    <tr style=\"text-align: right;\">\n",
       "      <th></th>\n",
       "      <th>algoritmo</th>\n",
       "      <th>treino</th>\n",
       "      <th>acuracia</th>\n",
       "      <th>precisao</th>\n",
       "      <th>recall</th>\n",
       "      <th>f1</th>\n",
       "    </tr>\n",
       "  </thead>\n",
       "  <tbody>\n",
       "    <tr>\n",
       "      <th>0</th>\n",
       "      <td>Ada Boosting</td>\n",
       "      <td>1</td>\n",
       "      <td>0.978000</td>\n",
       "      <td>0.979570</td>\n",
       "      <td>0.976364</td>\n",
       "      <td>0.977964</td>\n",
       "    </tr>\n",
       "    <tr>\n",
       "      <th>1</th>\n",
       "      <td>Ada Boosting</td>\n",
       "      <td>1</td>\n",
       "      <td>0.977045</td>\n",
       "      <td>0.977436</td>\n",
       "      <td>0.976636</td>\n",
       "      <td>0.977036</td>\n",
       "    </tr>\n",
       "    <tr>\n",
       "      <th>2</th>\n",
       "      <td>Ada Boosting</td>\n",
       "      <td>1</td>\n",
       "      <td>0.977318</td>\n",
       "      <td>0.977796</td>\n",
       "      <td>0.976818</td>\n",
       "      <td>0.977307</td>\n",
       "    </tr>\n",
       "    <tr>\n",
       "      <th>3</th>\n",
       "      <td>Ada Boosting</td>\n",
       "      <td>1</td>\n",
       "      <td>0.978227</td>\n",
       "      <td>0.979841</td>\n",
       "      <td>0.976545</td>\n",
       "      <td>0.978191</td>\n",
       "    </tr>\n",
       "    <tr>\n",
       "      <th>4</th>\n",
       "      <td>Ada Boosting</td>\n",
       "      <td>1</td>\n",
       "      <td>0.976182</td>\n",
       "      <td>0.976355</td>\n",
       "      <td>0.976000</td>\n",
       "      <td>0.976177</td>\n",
       "    </tr>\n",
       "  </tbody>\n",
       "</table>\n",
       "</div>"
      ],
      "text/plain": [
       "      algoritmo  treino  acuracia  precisao    recall        f1\n",
       "0  Ada Boosting       1  0.978000  0.979570  0.976364  0.977964\n",
       "1  Ada Boosting       1  0.977045  0.977436  0.976636  0.977036\n",
       "2  Ada Boosting       1  0.977318  0.977796  0.976818  0.977307\n",
       "3  Ada Boosting       1  0.978227  0.979841  0.976545  0.978191\n",
       "4  Ada Boosting       1  0.976182  0.976355  0.976000  0.976177"
      ]
     },
     "execution_count": 12,
     "metadata": {},
     "output_type": "execute_result"
    }
   ],
   "source": [
    "df_exp_1.head(5)"
   ]
  },
  {
   "cell_type": "code",
   "execution_count": 15,
   "metadata": {},
   "outputs": [
    {
     "name": "stdout",
     "output_type": "stream",
     "text": [
      "iot mobile, rejeitamos hipotese nula\n",
      "iot normal, rejeitamos hipotese nula\n"
     ]
    }
   ],
   "source": [
    "f1_1 = df_exp_1[df_exp_1[\"treino\"] == 1][\"acuracia\"].values\n",
    "f1_2 = df_exp_1[df_exp_1[\"treino\"] == 2][\"acuracia\"].values\n",
    "f1_3 = df_exp_1[df_exp_1[\"treino\"] == 3][\"acuracia\"].values\n",
    "    \n",
    "ttest, pval = stats.ttest_rel(f1_1, f1_2)\n",
    "if pval < 0.05:\n",
    "    print(\"iot mobile, rejeitamos hipotese nula\")\n",
    "else:\n",
    "    print(\"iot mobile, falhamos em rejeitar a hipotese nula\")\n",
    "    \n",
    "ttest, pval = stats.ttest_rel(f1_1, f1_3)\n",
    "if pval < 0.05:\n",
    "    print(\"iot normal, rejeitamos hipotese nula\")\n",
    "else:\n",
    "    print(\"iot normal, falhamos em rejeitar a hipotese nula\")"
   ]
  },
  {
   "cell_type": "markdown",
   "metadata": {},
   "source": [
    "### Hipótese Experimento 2\n",
    "\n",
    "**Idealmente um modelo será treinado com amostras de tráfego classificado como iot e não iot. Dentro da categória iot, existem diferentes classes de iot. Em cada conjunto de treino terá um certa classe iot excluida dos dados de treino, esta classe estara presente totalmente nos dados de teste como iot.**  \n",
    "  \n",
    "Hipótese Nula          : não há diferença de f1 quando há a adição de uma nova classe de dispositivo iot na rede.    \n",
    "Hipótese Alternativa   : há diferença de f1 quando há a adição de um nova classe de dispositivo iot na rede.  \n",
    "Nível de significância : 5%"
   ]
  },
  {
   "cell_type": "code",
   "execution_count": 80,
   "metadata": {},
   "outputs": [],
   "source": [
    "def atribui_label_2(dataset_nome):\n",
    "    return dataset_nome.split(\"_\")[0]"
   ]
  },
  {
   "cell_type": "code",
   "execution_count": 81,
   "metadata": {},
   "outputs": [
    {
     "data": {
      "text/html": [
       "<div>\n",
       "<style scoped>\n",
       "    .dataframe tbody tr th:only-of-type {\n",
       "        vertical-align: middle;\n",
       "    }\n",
       "\n",
       "    .dataframe tbody tr th {\n",
       "        vertical-align: top;\n",
       "    }\n",
       "\n",
       "    .dataframe thead th {\n",
       "        text-align: right;\n",
       "    }\n",
       "</style>\n",
       "<table border=\"1\" class=\"dataframe\">\n",
       "  <thead>\n",
       "    <tr style=\"text-align: right;\">\n",
       "      <th></th>\n",
       "      <th>classe</th>\n",
       "      <th>dataset_treino</th>\n",
       "      <th>dataset_test</th>\n",
       "      <th>algoritmo</th>\n",
       "      <th>f1</th>\n",
       "    </tr>\n",
       "  </thead>\n",
       "  <tbody>\n",
       "    <tr>\n",
       "      <th>0</th>\n",
       "      <td>appliences</td>\n",
       "      <td>appliences_05_05_05-90-trains.csv</td>\n",
       "      <td>appliences_05_05_05-90-test.csv</td>\n",
       "      <td>Gaussian Naive Bayes</td>\n",
       "      <td>0.784127</td>\n",
       "    </tr>\n",
       "    <tr>\n",
       "      <th>1</th>\n",
       "      <td>appliences</td>\n",
       "      <td>appliences_05_05_05-90-trains.csv</td>\n",
       "      <td>appliences_05_05_05-91-test.csv</td>\n",
       "      <td>Gaussian Naive Bayes</td>\n",
       "      <td>0.781838</td>\n",
       "    </tr>\n",
       "    <tr>\n",
       "      <th>2</th>\n",
       "      <td>appliences</td>\n",
       "      <td>appliences_05_05_05-90-trains.csv</td>\n",
       "      <td>appliences_05_05_05-92-test.csv</td>\n",
       "      <td>Gaussian Naive Bayes</td>\n",
       "      <td>0.783119</td>\n",
       "    </tr>\n",
       "    <tr>\n",
       "      <th>3</th>\n",
       "      <td>appliences</td>\n",
       "      <td>appliences_05_05_05-90-trains.csv</td>\n",
       "      <td>appliences_05_05_05-93-test.csv</td>\n",
       "      <td>Gaussian Naive Bayes</td>\n",
       "      <td>0.782984</td>\n",
       "    </tr>\n",
       "    <tr>\n",
       "      <th>4</th>\n",
       "      <td>appliences</td>\n",
       "      <td>appliences_05_05_05-90-trains.csv</td>\n",
       "      <td>appliences_05_05_05-94-test.csv</td>\n",
       "      <td>Gaussian Naive Bayes</td>\n",
       "      <td>0.780893</td>\n",
       "    </tr>\n",
       "  </tbody>\n",
       "</table>\n",
       "</div>"
      ],
      "text/plain": [
       "       classe                     dataset_treino  \\\n",
       "0  appliences  appliences_05_05_05-90-trains.csv   \n",
       "1  appliences  appliences_05_05_05-90-trains.csv   \n",
       "2  appliences  appliences_05_05_05-90-trains.csv   \n",
       "3  appliences  appliences_05_05_05-90-trains.csv   \n",
       "4  appliences  appliences_05_05_05-90-trains.csv   \n",
       "\n",
       "                      dataset_test             algoritmo        f1  \n",
       "0  appliences_05_05_05-90-test.csv  Gaussian Naive Bayes  0.784127  \n",
       "1  appliences_05_05_05-91-test.csv  Gaussian Naive Bayes  0.781838  \n",
       "2  appliences_05_05_05-92-test.csv  Gaussian Naive Bayes  0.783119  \n",
       "3  appliences_05_05_05-93-test.csv  Gaussian Naive Bayes  0.782984  \n",
       "4  appliences_05_05_05-94-test.csv  Gaussian Naive Bayes  0.780893  "
      ]
     },
     "execution_count": 81,
     "metadata": {},
     "output_type": "execute_result"
    }
   ],
   "source": [
    "df_exp_2 = pd.read_csv(\"./resultados/experimento-2/tcc/resultado_experimento_2-90-14-05-2021.csv\")\n",
    "df_exp_2[\"classe\"] = df_exp_2[\"dataset_treino\"].apply(atribui_label_2)\n",
    "df_exp_2 = seleciona_colunas(df_exp_2)\n",
    "df_exp_2.head(5)"
   ]
  },
  {
   "cell_type": "code",
   "execution_count": 82,
   "metadata": {},
   "outputs": [
    {
     "data": {
      "text/html": [
       "<div>\n",
       "<style scoped>\n",
       "    .dataframe tbody tr th:only-of-type {\n",
       "        vertical-align: middle;\n",
       "    }\n",
       "\n",
       "    .dataframe tbody tr th {\n",
       "        vertical-align: top;\n",
       "    }\n",
       "\n",
       "    .dataframe thead th {\n",
       "        text-align: right;\n",
       "    }\n",
       "</style>\n",
       "<table border=\"1\" class=\"dataframe\">\n",
       "  <thead>\n",
       "    <tr style=\"text-align: right;\">\n",
       "      <th></th>\n",
       "      <th>classe</th>\n",
       "      <th>dataset_treino</th>\n",
       "      <th>dataset_test</th>\n",
       "      <th>algoritmo</th>\n",
       "      <th>f1</th>\n",
       "    </tr>\n",
       "  </thead>\n",
       "  <tbody>\n",
       "    <tr>\n",
       "      <th>0</th>\n",
       "      <td>appliences</td>\n",
       "      <td>all_iot_05_05_05-90-trains.csv</td>\n",
       "      <td>appliences_05_05_05-90-test.csv</td>\n",
       "      <td>Gaussian Naive Bayes</td>\n",
       "      <td>0.784127</td>\n",
       "    </tr>\n",
       "    <tr>\n",
       "      <th>1</th>\n",
       "      <td>appliences</td>\n",
       "      <td>all_iot_05_05_05-90-trains.csv</td>\n",
       "      <td>appliences_05_05_05-91-test.csv</td>\n",
       "      <td>Gaussian Naive Bayes</td>\n",
       "      <td>0.781838</td>\n",
       "    </tr>\n",
       "    <tr>\n",
       "      <th>2</th>\n",
       "      <td>appliences</td>\n",
       "      <td>all_iot_05_05_05-90-trains.csv</td>\n",
       "      <td>appliences_05_05_05-92-test.csv</td>\n",
       "      <td>Gaussian Naive Bayes</td>\n",
       "      <td>0.783119</td>\n",
       "    </tr>\n",
       "    <tr>\n",
       "      <th>3</th>\n",
       "      <td>appliences</td>\n",
       "      <td>all_iot_05_05_05-90-trains.csv</td>\n",
       "      <td>appliences_05_05_05-93-test.csv</td>\n",
       "      <td>Gaussian Naive Bayes</td>\n",
       "      <td>0.782984</td>\n",
       "    </tr>\n",
       "    <tr>\n",
       "      <th>4</th>\n",
       "      <td>appliences</td>\n",
       "      <td>all_iot_05_05_05-90-trains.csv</td>\n",
       "      <td>appliences_05_05_05-94-test.csv</td>\n",
       "      <td>Gaussian Naive Bayes</td>\n",
       "      <td>0.780893</td>\n",
       "    </tr>\n",
       "  </tbody>\n",
       "</table>\n",
       "</div>"
      ],
      "text/plain": [
       "       classe                  dataset_treino  \\\n",
       "0  appliences  all_iot_05_05_05-90-trains.csv   \n",
       "1  appliences  all_iot_05_05_05-90-trains.csv   \n",
       "2  appliences  all_iot_05_05_05-90-trains.csv   \n",
       "3  appliences  all_iot_05_05_05-90-trains.csv   \n",
       "4  appliences  all_iot_05_05_05-90-trains.csv   \n",
       "\n",
       "                      dataset_test             algoritmo        f1  \n",
       "0  appliences_05_05_05-90-test.csv  Gaussian Naive Bayes  0.784127  \n",
       "1  appliences_05_05_05-91-test.csv  Gaussian Naive Bayes  0.781838  \n",
       "2  appliences_05_05_05-92-test.csv  Gaussian Naive Bayes  0.783119  \n",
       "3  appliences_05_05_05-93-test.csv  Gaussian Naive Bayes  0.782984  \n",
       "4  appliences_05_05_05-94-test.csv  Gaussian Naive Bayes  0.780893  "
      ]
     },
     "execution_count": 82,
     "metadata": {},
     "output_type": "execute_result"
    }
   ],
   "source": [
    "df_exp_2_base = pd.read_csv(\"./resultados/experimento-2/resultado_experimento_2_base_hip-90-19-05-2021.csv\")\n",
    "df_exp_2_base[\"classe\"] = df_exp_2_base[\"dataset_test\"].apply(atribui_label_2)\n",
    "df_exp_2_base = seleciona_colunas(df_exp_2_base)\n",
    "df_exp_2_base.head(5)"
   ]
  },
  {
   "cell_type": "code",
   "execution_count": 83,
   "metadata": {},
   "outputs": [
    {
     "data": {
      "text/plain": [
       "['appliences',\n",
       " 'cameras',\n",
       " 'controller-hubs',\n",
       " 'energy-managment',\n",
       " 'health-monitor']"
      ]
     },
     "execution_count": 83,
     "metadata": {},
     "output_type": "execute_result"
    }
   ],
   "source": [
    "classes = df_exp_2[\"classe\"].unique().tolist()\n",
    "classes"
   ]
  },
  {
   "cell_type": "code",
   "execution_count": 84,
   "metadata": {},
   "outputs": [
    {
     "name": "stdout",
     "output_type": "stream",
     "text": [
      "iot appliences rejeitamos hipotese nula\n",
      "iot cameras rejeitamos hipotese nula\n",
      "iot controller-hubs rejeitamos hipotese nula\n",
      "iot energy-managment rejeitamos hipotese nula\n",
      "iot health-monitor rejeitamos hipotese nula\n"
     ]
    }
   ],
   "source": [
    "## NAO PODE SER COMPARADO COM DF1 PELO FATO DE ELE NÃO SER TESTADO NOS MESMOS DADOS QUE ESSES MODELOS\n",
    "for classe in classes:\n",
    "    f1_base = df_exp_2_base[(df_exp_2_base[\"classe\"] == classe)].sort_values([\"algoritmo\", \"dataset_test\"])[\"f1\"].values\n",
    "    f1_iot = df_exp_2[(df_exp_2[\"classe\"] == classe)].sort_values([\"algoritmo\", \"dataset_test\"])[\"f1\"].values\n",
    "    if f1_base.shape != f1_iot.shape:\n",
    "        print(\"Error at\", classe, \"arrays must have the same shape\")\n",
    "        break\n",
    "    ttest, pval = stats.ttest_rel(f1_base, f1_iot)\n",
    "    if pval < 0.05:\n",
    "        print(\"iot\", classe, \"rejeitamos hipotese nula\")\n",
    "    else:\n",
    "        print(\"iot\", classe, \"falhamos em rejeitar a hipotese nula\")"
   ]
  },
  {
   "cell_type": "code",
   "execution_count": 64,
   "metadata": {},
   "outputs": [
    {
     "data": {
      "text/plain": [
       "array([1., 1., 1., 1., 1., 1., 1., 1., 1., 1., 1., 1., 1., 1., 1., 1., 1.,\n",
       "       1., 1., 1., 1., 1., 1., 1., 1.])"
      ]
     },
     "execution_count": 64,
     "metadata": {},
     "output_type": "execute_result"
    }
   ],
   "source": [
    "xclasse = \"appliences\"\n",
    "df_exp_2_base[(df_exp_2_base[\"classe\"] == classe) & (df_exp_2_base[\"algoritmo\"] == \"Decision Trees\")].sort_values([\"algoritmo\", \"dataset_test\"])[\"f1\"].values"
   ]
  },
  {
   "cell_type": "code",
   "execution_count": 62,
   "metadata": {},
   "outputs": [
    {
     "data": {
      "text/plain": [
       "270     1.0\n",
       "630     1.0\n",
       "990     1.0\n",
       "1350    1.0\n",
       "1710    1.0\n",
       "271     1.0\n",
       "631     1.0\n",
       "991     1.0\n",
       "1351    1.0\n",
       "1711    1.0\n",
       "272     1.0\n",
       "632     1.0\n",
       "992     1.0\n",
       "1352    1.0\n",
       "1712    1.0\n",
       "273     1.0\n",
       "633     1.0\n",
       "993     1.0\n",
       "1353    1.0\n",
       "1713    1.0\n",
       "274     1.0\n",
       "634     1.0\n",
       "994     1.0\n",
       "1354    1.0\n",
       "1714    1.0\n",
       "Name: f1, dtype: float64"
      ]
     },
     "execution_count": 62,
     "metadata": {},
     "output_type": "execute_result"
    }
   ],
   "source": [
    "xclasse = \"appliences\"\n",
    "df_exp_2[df_exp_2[\"classe\"] == xclasse].sort_values([\"algoritmo\", \"dataset_test\"])"
   ]
  },
  {
   "cell_type": "code",
   "execution_count": 12,
   "metadata": {},
   "outputs": [],
   "source": [
    "# Experimento 3"
   ]
  }
 ],
 "metadata": {
  "kernelspec": {
   "display_name": "Python 3",
   "language": "python",
   "name": "python3"
  },
  "language_info": {
   "codemirror_mode": {
    "name": "ipython",
    "version": 3
   },
   "file_extension": ".py",
   "mimetype": "text/x-python",
   "name": "python",
   "nbconvert_exporter": "python",
   "pygments_lexer": "ipython3",
   "version": "3.7.9"
  }
 },
 "nbformat": 4,
 "nbformat_minor": 4
}
